{
 "cells": [
  {
   "cell_type": "markdown",
   "metadata": {},
   "source": [
    "# Basic Python Command Reference / Examples"
   ]
  },
  {
   "cell_type": "code",
   "execution_count": 46,
   "metadata": {},
   "outputs": [],
   "source": [
    "import itertools\n",
    "import numpy\n",
    "import string  # e.g. for alphabet (see also: https://www.pythonpool.com/python-alphabet/)"
   ]
  },
  {
   "cell_type": "markdown",
   "metadata": {},
   "source": [
    "## Pairing / Cross join, product, ..."
   ]
  },
  {
   "cell_type": "code",
   "execution_count": 20,
   "metadata": {},
   "outputs": [
    {
     "name": "stdout",
     "output_type": "stream",
     "text": [
      "Pair two lists by list-comprehension: [(1, 7), (1, 8), (1, 9), (2, 7), (2, 8), (2, 9)]\n",
      "Pair two lists using itertools: [(1, 7), (1, 8), (1, 9), (2, 7), (2, 8), (2, 9)]\n"
     ]
    }
   ],
   "source": [
    "# creat a list of tuples from two lists:\n",
    "\n",
    "a = [1 ,2]\n",
    "b = range(7, 10)\n",
    "\n",
    "# list-comprehension\n",
    "pairs1 = [(x, y) for x in a for y in b]\n",
    "print (\"Pair two lists by list-comprehension: \" +  str(pairs1))\n",
    "\n",
    "# itertools\n",
    "pairs2 = list(itertools.product(a,b))\n",
    "print (\"Pair two lists using itertools: \" +  str(pairs2))"
   ]
  },
  {
   "cell_type": "code",
   "execution_count": 89,
   "metadata": {},
   "outputs": [
    {
     "data": {
      "text/plain": [
       "[(1, 2), (1, 3), (2, 3)]"
      ]
     },
     "execution_count": 89,
     "metadata": {},
     "output_type": "execute_result"
    }
   ],
   "source": [
    "# create a list of tuples of all combinations of one list\n",
    "\n",
    "list(itertools.combinations(a,2))"
   ]
  },
  {
   "cell_type": "code",
   "execution_count": 75,
   "metadata": {},
   "outputs": [
    {
     "name": "stdout",
     "output_type": "stream",
     "text": [
      "Product of tuples in a list by list-comprehension: [7, 8, 9, 14, 16, 18]\n",
      "Join tuples in a list by map(): ['17', '18', '19', '27', '28', '29']\n"
     ]
    }
   ],
   "source": [
    "# manipulate tuples in list\n",
    "\n",
    "# list comprehension:\n",
    "product = [np.prod(t) for t in pairs1]\n",
    "print (\"Product of tuples in a list by list-comprehension: \" +  str(product))\n",
    "\n",
    "\n",
    "func2string_v1 = lambda t: (str(t[0]), str(t[1]))\n",
    "# more industrialized\n",
    "func2string_v2 = lambda tup: (str(t) for t in tup)\n",
    "\n",
    "list_of_tuples_strings = list(map(func2string_v2, pairs1))\n",
    "joins = list(map(str().join, list_of_tuples_strings))\n",
    "print (\"Join tuples in a list by map(): \" +  str(joins))"
   ]
  },
  {
   "cell_type": "code",
   "execution_count": 92,
   "metadata": {},
   "outputs": [
    {
     "name": "stdout",
     "output_type": "stream",
     "text": [
      "str_pairs_1: ['A_1', 'A_2', 'A_3', 'B_1', 'B_2', 'B_3']\n",
      "str_pairs_2: ['A 1', 'A 2', 'A 3', 'B 1', 'B 2', 'B 3']\n"
     ]
    }
   ],
   "source": [
    "# cross join elements of two arrays:\n",
    "\n",
    "a = [1 , 2, 3]\n",
    "b = [s for s in string.ascii_uppercase[0:2]] # TODO: how to with map()\n",
    "\n",
    "# by list comprehension\n",
    "str_pairs_1 = [s + '_' + str(t) for s in b for t in a]\n",
    "print('str_pairs_1: ' + str(str_pairs_1))\n",
    "\n",
    "# by itertools and map:\n",
    "a_str = list(func2string_v2(a))\n",
    "str_pairs_2 = list(map(\" \".join, itertools.product(b, a_str)))\n",
    "print('str_pairs_2: ' + str(str_pairs_2))"
   ]
  },
  {
   "cell_type": "code",
   "execution_count": 81,
   "metadata": {},
   "outputs": [
    {
     "data": {
      "text/plain": [
       "[(1, 2), (1, 3), (2, 3)]"
      ]
     },
     "execution_count": 81,
     "metadata": {},
     "output_type": "execute_result"
    }
   ],
   "source": []
  },
  {
   "cell_type": "code",
   "execution_count": 86,
   "metadata": {},
   "outputs": [
    {
     "data": {
      "text/plain": [
       "[('A', '1'), ('A', '2'), ('A', '3'), ('B', '1'), ('B', '2'), ('B', '3')]"
      ]
     },
     "execution_count": 86,
     "metadata": {},
     "output_type": "execute_result"
    }
   ],
   "source": []
  },
  {
   "cell_type": "code",
   "execution_count": null,
   "metadata": {},
   "outputs": [],
   "source": []
  }
 ],
 "metadata": {
  "kernelspec": {
   "display_name": "Python 3",
   "language": "python",
   "name": "python3"
  },
  "language_info": {
   "codemirror_mode": {
    "name": "ipython",
    "version": 3
   },
   "file_extension": ".py",
   "mimetype": "text/x-python",
   "name": "python",
   "nbconvert_exporter": "python",
   "pygments_lexer": "ipython3",
   "version": "3.8.10"
  }
 },
 "nbformat": 4,
 "nbformat_minor": 4
}
