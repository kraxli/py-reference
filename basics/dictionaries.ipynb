{
 "cells": [
  {
   "cell_type": "code",
   "execution_count": 4,
   "id": "1661be8c-6499-49f8-969a-a9daa257157e",
   "metadata": {},
   "outputs": [],
   "source": [
    "d1 = {'a':'one', 'b':'two'}\n",
    "d2 = {'b':'letter two', 'c':'letter three'}\n"
   ]
  },
  {
   "cell_type": "markdown",
   "id": "f998fa1a-94c7-4139-96b7-053134f730bf",
   "metadata": {},
   "source": [
    "## cocatenation operator |"
   ]
  },
  {
   "cell_type": "code",
   "execution_count": 5,
   "id": "75657123-399d-4ed5-8f0c-5382fdd90dd6",
   "metadata": {},
   "outputs": [
    {
     "data": {
      "text/plain": [
       "{'a': 'one', 'b': 'letter two', 'c': 'letter three'}"
      ]
     },
     "execution_count": 5,
     "metadata": {},
     "output_type": "execute_result"
    }
   ],
   "source": [
    "d1 | d2"
   ]
  },
  {
   "cell_type": "markdown",
   "id": "e1c90aa6-0a1b-468a-abb7-d575d4011c7f",
   "metadata": {},
   "source": [
    "## Unzip individual dictionaries and create new dictionary with { ... }"
   ]
  },
  {
   "cell_type": "code",
   "execution_count": 8,
   "id": "6fa4c2af-45ed-4caa-b093-07224ee4b0c1",
   "metadata": {},
   "outputs": [
    {
     "data": {
      "text/plain": [
       "{'a': 'one', 'b': 'letter two', 'c': 'letter three'}"
      ]
     },
     "execution_count": 8,
     "metadata": {},
     "output_type": "execute_result"
    }
   ],
   "source": [
    "{**d1, **d2}"
   ]
  },
  {
   "cell_type": "markdown",
   "id": "1efcbcd5-02b1-4bcd-adb1-1ba580f7b0b1",
   "metadata": {},
   "source": [
    "## Update dictionary (inplace overwrite - use copy first)"
   ]
  },
  {
   "cell_type": "code",
   "execution_count": 11,
   "id": "eda22180-1eac-455d-9fc2-8043235928cd",
   "metadata": {},
   "outputs": [
    {
     "data": {
      "text/plain": [
       "{'a': 'one', 'b': 'letter two', 'c': 'letter three'}"
      ]
     },
     "execution_count": 11,
     "metadata": {},
     "output_type": "execute_result"
    }
   ],
   "source": [
    "d3 = d1.copy()\n",
    "d3.update(d2)\n",
    "d3"
   ]
  },
  {
   "cell_type": "markdown",
   "id": "151212d8-eba6-4f93-b9de-c55346c4692f",
   "metadata": {},
   "source": [
    "## locals() - as a reference. Not to be used!\n",
    "\n",
    "!! better not to use locals() since its scoping is not reliable especially within functions"
   ]
  },
  {
   "cell_type": "code",
   "execution_count": 16,
   "id": "cce747cf-5ac7-4ddc-b2ea-0e4a09b44759",
   "metadata": {},
   "outputs": [
    {
     "data": {
      "text/plain": [
       "dict_keys(['__name__', '__doc__', '__package__', '__loader__', '__spec__', '__builtin__', '__builtins__', '_ih', '_oh', '_dh', 'In', 'Out', 'get_ipython', 'exit', 'quit', 'open', '_', '__', '___', '__session__', 'pyarrow', 'readline', 'rlcompleter', 'visidata', 'vd_obj', 'vd_dataframe', 'vd', 'vd_df', 'vdo', '_i', '_ii', '_iii', '_i1', 'dict1', 'dict2', '_i2', '_i3', '_3', '_i4', 'd1', 'd2', '_i5', '_5', '_i6', '_i7', '_i8', '_8', '_i9', '_i10', 'd3', '_i11', '_11', '_i12', '_i13', '_13', '_i14', '_i15', '_15', '_i16'])"
      ]
     },
     "execution_count": 16,
     "metadata": {},
     "output_type": "execute_result"
    }
   ],
   "source": [
    "# update local\n",
    "locals().keys()"
   ]
  },
  {
   "cell_type": "code",
   "execution_count": 31,
   "id": "35bcd2c9-0a6d-46c5-9881-72a7088cacc2",
   "metadata": {},
   "outputs": [
    {
     "name": "stdout",
     "output_type": "stream",
     "text": [
      "d1['a']: one \n",
      "\n",
      "keys of locals() including a:\n",
      " dict_keys(['__name__', '__doc__', '__package__', '__loader__', '__spec__', '__builtin__', '__builtins__', '_ih', '_oh', '_dh', 'In', 'Out', 'get_ipython', 'exit', 'quit', 'open', '_', '__', '___', '__session__', 'pyarrow', 'readline', 'rlcompleter', 'visidata', 'vd_obj', 'vd_dataframe', 'vd', 'vd_df', 'vdo', '_i', '_ii', '_iii', '_i1', 'dict1', 'dict2', '_i2', '_i3', '_3', '_i4', 'd1', 'd2', '_i5', '_5', '_i6', '_i7', '_i8', '_8', '_i9', '_i10', 'd3', '_i11', '_11', '_i12', '_i13', '_13', '_i14', '_i15', '_15', '_i16', '_16', '_i17', 'key', 'value', '_i18', '_i19', 'a', 'b', '_i20', '_20', '_i21', '_i22', '_i23', '_i24', '_i25', '_i26', '_i27', '_i28', '_i29', '_i30', '_i31']) \n",
      "\n",
      "Variable a is in scope of local variables: one\n"
     ]
    }
   ],
   "source": [
    "\n",
    "for key, value in d1.items():\n",
    "    locals()[key] = value\n",
    "\n",
    "print(f\"d1['a']: {d1.get('a')} \\n\")\n",
    "\n",
    "print(\"keys of locals() including a:\\n\", locals().keys(), '\\n')\n",
    "\n",
    "print(f\"Variable a is in scope of local variables: {a}\")"
   ]
  }
 ],
 "metadata": {
  "kernelspec": {
   "display_name": "Python 3 (ipykernel)",
   "language": "python",
   "name": "python3"
  },
  "language_info": {
   "codemirror_mode": {
    "name": "ipython",
    "version": 3
   },
   "file_extension": ".py",
   "mimetype": "text/x-python",
   "name": "python",
   "nbconvert_exporter": "python",
   "pygments_lexer": "ipython3",
   "version": "3.13.2"
  }
 },
 "nbformat": 4,
 "nbformat_minor": 5
}
