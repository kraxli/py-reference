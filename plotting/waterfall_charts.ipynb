{
 "cells": [
  {
   "cell_type": "markdown",
   "metadata": {},
   "source": [
    "\n",
    "- https://stackoverflow.com/questions/64295425/how-to-set-different-colors-for-bars-in-a-plotly-waterfall-chart\n",
    "- https://medium.com/geekculture/creating-a-waterfall-chart-in-python-dc7bcddecb45\n",
    "- https://www.machinelearningplus.com/waterfall-plot-in-python/\n",
    "- plotly: https://plotly.com/python/waterfall-charts/\n",
    "- plotnine (general not waterfall): https://realpython.com/ggplot-python/"
   ]
  }
 ],
 "metadata": {
  "kernelspec": {
   "display_name": "Python 3",
   "language": "python",
   "name": "python3"
  },
  "language_info": {
   "codemirror_mode": {
    "name": "ipython",
    "version": 3
   },
   "file_extension": ".py",
   "mimetype": "text/x-python",
   "name": "python",
   "nbconvert_exporter": "python",
   "pygments_lexer": "ipython3",
   "version": "3.8.10"
  }
 },
 "nbformat": 4,
 "nbformat_minor": 4
}
